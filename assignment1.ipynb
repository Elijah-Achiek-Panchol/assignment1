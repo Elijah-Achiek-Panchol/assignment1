{
 "cells": [
  {
   "cell_type": "markdown",
   "id": "caadda4c-e7ae-466e-b72e-f339152445ec",
   "metadata": {},
   "source": [
    "# My Jupyter Notebook on IBM Watson Studio"
   ]
  },
  {
   "cell_type": "markdown",
   "id": "be7b70c6-b8a6-4196-94e4-44ae40473613",
   "metadata": {},
   "source": [
    "**Name: Elijah Achiek Panchol Achiek**, \n",
    "Occupation: Biomedical engineer"
   ]
  },
  {
   "cell_type": "markdown",
   "id": "282eeb71-1320-4790-8655-8a37ee4d0608",
   "metadata": {},
   "source": [
    "*I am interested in datascience because as a biomedical engineer, I am required to have a better understanding of health problems inorder to be able to come up with some solutions. \n",
    "The knowledge of data science will enable me to use the available data to get insight on the existing health issues*."
   ]
  },
  {
   "cell_type": "markdown",
   "id": "0c1635a2-f540-4fbb-a18f-c4b290603a4e",
   "metadata": {},
   "source": [
    "### This will print list of natural numbers"
   ]
  },
  {
   "cell_type": "code",
   "execution_count": 3,
   "id": "03c5276f-91ca-46e2-a814-5ef6a6bf1ca3",
   "metadata": {},
   "outputs": [
    {
     "name": "stdout",
     "output_type": "stream",
     "text": [
      "0\n",
      "1\n",
      "2\n",
      "3\n",
      "4\n",
      "5\n",
      "6\n",
      "7\n",
      "8\n",
      "9\n"
     ]
    }
   ],
   "source": [
    "for n in range(10):\n",
    "    print(n)"
   ]
  },
  {
   "cell_type": "code",
   "execution_count": null,
   "id": "a5ab311c-21dc-41dc-ae20-3f909d584748",
   "metadata": {},
   "outputs": [],
   "source": [
    "#### Contents of the assignments:\n",
    "* Title\n",
    "* Name and occupation\n",
    "* Why I am studying data science\n",
    "* program title\n",
    "* Code\n",
    "*conclusion\n"
   ]
  }
 ],
 "metadata": {
  "kernelspec": {
   "display_name": "Python",
   "language": "python",
   "name": "conda-env-python-py"
  },
  "language_info": {
   "codemirror_mode": {
    "name": "ipython",
    "version": 3
   },
   "file_extension": ".py",
   "mimetype": "text/x-python",
   "name": "python",
   "nbconvert_exporter": "python",
   "pygments_lexer": "ipython3",
   "version": "3.7.12"
  }
 },
 "nbformat": 4,
 "nbformat_minor": 5
}
